{
 "cells": [
  {
   "cell_type": "code",
   "execution_count": 1,
   "metadata": {},
   "outputs": [
    {
     "name": "stderr",
     "output_type": "stream",
     "text": [
      "Using TensorFlow backend.\n"
     ]
    }
   ],
   "source": [
    "import numpy as np\n",
    "import random\n",
    "import pandas as pd\n",
    "import os\n",
    "from PIL import Image\n",
    "import matplotlib.pyplot as plt\n",
    "from scipy.linalg import sqrtm\n",
    "#from skimage.transform import resize\n",
    "import cv2\n",
    "from keras.preprocessing.image import load_img, img_to_array, array_to_img\n",
    "from keras.layers import Activation, Dense, Input, Dropout, BatchNormalization\n",
    "from keras.layers import Conv2D, Conv2DTranspose, Input, Flatten, Dense, Reshape, Concatenate, Lambda, Layer\n",
    "from keras.layers.merge import concatenate\n",
    "from keras.models import Model\n",
    "from keras.optimizers import Adam\n",
    "from keras.losses import mean_squared_error, binary_crossentropy\n",
    "from keras import metrics\n",
    "from keras.applications.inception_v3 import preprocess_input, InceptionV3\n",
    "import keras.backend as K"
   ]
  },
  {
   "cell_type": "code",
   "execution_count": 26,
   "metadata": {},
   "outputs": [],
   "source": [
    "## Constants\n",
    "OLD_IMAGE_DIMS = (218, 178, 3)\n",
    "NEW_IMAGE_DIMS = (64, 64, 3)\n",
    "CROP_IMAGE_DIMS = (25, 45, 153, 173)\n",
    "BATCH_SIZE = 128 # Hva er dette?\n",
    "N = 6\n",
    "NUM_ATTRIBUTES = 40\n",
    "LATENT_DIM = 64\n",
    "TOT_IMAGES = 202599\n",
    "EPOCHS = 1"
   ]
  },
  {
   "cell_type": "code",
   "execution_count": 27,
   "metadata": {},
   "outputs": [],
   "source": [
    "## Constants needed to run in Google Colab\n",
    "PATH = './'\n",
    "IMAGES = 'img_align_celeba/'\n",
    "ATTRIBUTES = 'list_attr_celeba.txt'"
   ]
  },
  {
   "cell_type": "code",
   "execution_count": 28,
   "metadata": {},
   "outputs": [
    {
     "name": "stdout",
     "output_type": "stream",
     "text": [
      "<generator object initialize_training_set at 0x13de146d0>\n"
     ]
    }
   ],
   "source": [
    "## Loading dataset\n",
    "def get_attributes(filename):\n",
    "  f = open(filename, 'r')\n",
    "  lines = f.readlines()\n",
    "  attributes = []\n",
    "  i = 0\n",
    "  for line in lines:\n",
    "      if i != 0 and i != 1:\n",
    "        line = line.split()\n",
    "        #line.pop(0)\n",
    "        attributes.append(line)\n",
    "      i += 1\n",
    "  return attributes\n",
    "\n",
    "def initialize_training_set(): # N or batch size??\n",
    "    all_attributes = get_attributes(PATH + ATTRIBUTES)\n",
    "    chosen_info = random.sample(all_attributes, N)\n",
    "    chosen_attributes = [info[1:] for info in chosen_info]\n",
    "    chosen_images = [info[0] for info in chosen_info]\n",
    "    resized_images = []\n",
    "    \n",
    "    while True:\n",
    "        for ind in range(len(chosen_info)):\n",
    "            image_path = PATH + IMAGES + chosen_images[0]\n",
    "            #img = cv2.imread(np.frombuffer(image_path), cv2.IMREAD_COLOR)#[...,::-1] / 255.0\n",
    "            img = cv2.imread(image_path, cv2.IMREAD_COLOR)#[...,::-1] / 255.0\n",
    "            img = img[45:173 , 25:153]\n",
    "            img = cv2.resize(src=img, dsize=(64, 64))\n",
    "            #img = Image.open(image_path).crop(CROP_IMAGE_DIMS)\n",
    "            #img = img.resize((NEW_IMAGE_DIMS[0], NEW_IMAGE_DIMS[1]))\n",
    "            #img = cv2.resize(src=img, dsize=[NEW_IMAGE_DIMS[0], NEW_IMAGE_DIMS[0]])\n",
    "\n",
    "            #image = cv2.imdecode(np.frombuffer(image_path, np.uint8), cv2.IMREAD_COLOR)[...,::-1] / 255.0\n",
    "            #image = image[45:173 , 25:153]\n",
    "            #image = cv2.resize(src=image, dsize=(Image_Dim_Crop[0], Image_Dim_Crop[1]))\n",
    "            #resized_images += [img]\n",
    "            np.append(resized_images, img)\n",
    "\n",
    "            \"\"\"\n",
    "            for name in chosen_images:\n",
    "                img = np.array((Image.open(PATH + IMAGES + name).crop(CROP_IMAGE_DIMS)).resize((NEW_IMAGE_DIMS[0], NEW_IMAGE_DIMS[1])))\n",
    "                resized_images.append(img)\n",
    "            resized_images = np.array(resized_images)\n",
    "            resized_images = np.array([imgs.astype('float32') for imgs in resized_images])\n",
    "            \"\"\"\n",
    "        resized_images = np.array(resized_images, dtype=np.float32)\n",
    "        chosen_attributes = np.array(chosen_attributes, dtype=np.float32)\n",
    "\n",
    "        yield [resized_images, chosen_attributes], None\n",
    "\n",
    "training_set = initialize_training_set()\n",
    "print(training_set)"
   ]
  },
  {
   "cell_type": "code",
   "execution_count": null,
   "metadata": {},
   "outputs": [],
   "source": [
    "\"\"\"\n",
    "attribute_folder = PATH + ATTRIBUTES\n",
    "\n",
    "def celeba_generator():\n",
    "  read_attributes = pd.read_csv(attribute_folder, skiprows=2,header=None,delim_whitespace=True)\n",
    "  #attributes = np.array(pd.read_csv(Library + Attributes_txt_file, skiprows=2, header=None, delim_whitespace=True))\n",
    "  attribute_array = np.array(read_attributes)\n",
    "  with ZipFile(Celeba_Folder, 'r') as Celeba_Dataset: #Dundrer gjennom bildene i Celeba\n",
    "    while True: #Trekker ut random bilder fra 1D attributt array innenfor batch sizen\n",
    "      images = attribute_array[np.random.choice(attribute_array.shape[0], Batch_Size, replace=False)] #random.choice generates a random sample from 1D array\n",
    "      image_batch = []\n",
    "      attributes_batch = []\n",
    "      for image_info in images: #Litt usikker på hva som skjer her?\n",
    "        image = cv2.imdecode(np.frombuffer(Celeba_Dataset.read(Celeba_images + image_info[0]), np.uint8), cv2.IMREAD_COLOR)[...,::-1] / 255.0\n",
    "        image = image[45:173 , 25:153]\n",
    "        image = cv2.resize(src=image, dsize=(Image_Dim_Crop[0], Image_Dim_Crop[1]))\n",
    "        image_batch += [image]\n",
    "        attributes_batch += [image_info[1:]]\n",
    "      image_batch = np.array(image_batch, dtype=np.float32)\n",
    "      attribute_batch = np.array(attributes_batch, dtype=np.int32)\n",
    "\n",
    "      yield [image_batch, attribute_batch], None\n",
    "\n",
    "training_set = celeba_generator()\n",
    "\n",
    "print(training_set)\n",
    "\"\"\"\n"
   ]
  },
  {
   "cell_type": "code",
   "execution_count": 29,
   "metadata": {},
   "outputs": [
    {
     "name": "stdout",
     "output_type": "stream",
     "text": [
      "Model: \"encoder\"\n",
      "__________________________________________________________________________________________________\n",
      "Layer (type)                    Output Shape         Param #     Connected to                     \n",
      "==================================================================================================\n",
      "input_img (InputLayer)          (None, 64, 64, 3)    0                                            \n",
      "__________________________________________________________________________________________________\n",
      "conv2d_36 (Conv2D)              (None, 32, 32, 32)   896         input_img[0][0]                  \n",
      "__________________________________________________________________________________________________\n",
      "conv2d_37 (Conv2D)              (None, 16, 16, 64)   18496       conv2d_36[0][0]                  \n",
      "__________________________________________________________________________________________________\n",
      "conv2d_38 (Conv2D)              (None, 8, 8, 128)    73856       conv2d_37[0][0]                  \n",
      "__________________________________________________________________________________________________\n",
      "conv2d_39 (Conv2D)              (None, 4, 4, 256)    295168      conv2d_38[0][0]                  \n",
      "__________________________________________________________________________________________________\n",
      "conv2d_40 (Conv2D)              (None, 2, 2, 512)    1180160     conv2d_39[0][0]                  \n",
      "__________________________________________________________________________________________________\n",
      "flatten_22 (Flatten)            (None, 2048)         0           conv2d_40[0][0]                  \n",
      "__________________________________________________________________________________________________\n",
      "z_mean (Dense)                  (None, 64)           131136      flatten_22[0][0]                 \n",
      "__________________________________________________________________________________________________\n",
      "z_log_sigma (Dense)             (None, 64)           131136      flatten_22[0][0]                 \n",
      "__________________________________________________________________________________________________\n",
      "sampling_8 (Sampling)           [(None, 64), (None,  0           z_mean[0][0]                     \n",
      "                                                                 z_log_sigma[0][0]                \n",
      "__________________________________________________________________________________________________\n",
      "labels (InputLayer)             (None, 40)           0                                            \n",
      "__________________________________________________________________________________________________\n",
      "concatenate_8 (Concatenate)     (None, 104)          0           sampling_8[0][0]                 \n",
      "                                                                 labels[0][0]                     \n",
      "==================================================================================================\n",
      "Total params: 1,830,848\n",
      "Trainable params: 1,830,848\n",
      "Non-trainable params: 0\n",
      "__________________________________________________________________________________________________\n",
      "Model: \"decoder\"\n",
      "_________________________________________________________________\n",
      "Layer (type)                 Output Shape              Param #   \n",
      "=================================================================\n",
      "input_8 (InputLayer)         (None, 104)               0         \n",
      "_________________________________________________________________\n",
      "dense_8 (Dense)              (None, 2048)              215040    \n",
      "_________________________________________________________________\n",
      "reshape_8 (Reshape)          (None, 2, 2, 512)         0         \n",
      "_________________________________________________________________\n",
      "conv2d_transpose_36 (Conv2DT (None, 4, 4, 256)         1179904   \n",
      "_________________________________________________________________\n",
      "conv2d_transpose_37 (Conv2DT (None, 8, 8, 128)         295040    \n",
      "_________________________________________________________________\n",
      "conv2d_transpose_38 (Conv2DT (None, 16, 16, 64)        73792     \n",
      "_________________________________________________________________\n",
      "conv2d_transpose_39 (Conv2DT (None, 32, 32, 32)        18464     \n",
      "_________________________________________________________________\n",
      "conv2d_transpose_40 (Conv2DT (None, 64, 64, 3)         867       \n",
      "=================================================================\n",
      "Total params: 1,783,107\n",
      "Trainable params: 1,783,107\n",
      "Non-trainable params: 0\n",
      "_________________________________________________________________\n"
     ]
    },
    {
     "name": "stderr",
     "output_type": "stream",
     "text": [
      "/usr/local/lib/python3.7/site-packages/keras/engine/training_utils.py:819: UserWarning: Output decoder missing from loss dictionary. We assume this was done on purpose. The fit and evaluate APIs will not be expecting any data to be passed to decoder.\n",
      "  'be expecting any data to be passed to {0}.'.format(name))\n"
     ]
    }
   ],
   "source": [
    "\n",
    "class Sampling(Layer):\n",
    "  def call(self, inputs):\n",
    "    z_mean, z_log_var = inputs\n",
    "    batch = K.shape(z_mean)[0]\n",
    "    dim = K.shape(z_mean)[1]\n",
    "    epsilon = K.random_normal(shape=(batch, dim))\n",
    "    return z_mean + K.exp(0.5 * z_log_var) * epsilon\n",
    "\n",
    "def VAE():\n",
    "  #Define encoder model.\n",
    "  input_img = Input(shape = NEW_IMAGE_DIMS, name='input_img')\n",
    "  labels = Input(shape = (NUM_ATTRIBUTES,), name='labels')\n",
    "\n",
    "  x = Conv2D(filters = 32, kernel_size = 3, strides = 2, padding = 'same', activation = 'relu')(input_img)\n",
    "  x = Conv2D(filters = 64, kernel_size = 3, strides = 2, padding = 'same', activation = 'relu')(x)\n",
    "  x = Conv2D(filters = 128, kernel_size = 3, strides = 2, padding = 'same', activation = 'relu')(x)\n",
    "  x = Conv2D(filters = 256, kernel_size = 3, strides = 2, padding = 'same', activation = 'relu')(x)\n",
    "  x = Conv2D(filters = 512, kernel_size = 3, strides = 2, padding = 'same', activation = 'relu')(x)\n",
    "\n",
    "  #encode = Encode_Decode(input_img) #Done\n",
    "\n",
    "  shape_before_flattening = K.int_shape(x)[1:]\n",
    "  #shape_before_flattening = K.int_shape(encode)[1:]\n",
    "\n",
    "  x = Flatten()(x)\n",
    "\n",
    "  z_mean = Dense(LATENT_DIM, name='z_mean')(x)\n",
    "  z_log_sigma = Dense(LATENT_DIM, name='z_log_sigma')(x)\n",
    "  z = Sampling()([z_mean, z_log_sigma])\n",
    "\n",
    "  zy = Concatenate()([z, labels])\n",
    "\n",
    "  inputs_embedding = Input(shape=(LATENT_DIM + NUM_ATTRIBUTES,))\n",
    "  embedding = Dense(np.prod(shape_before_flattening))(inputs_embedding)\n",
    "  embedding = Reshape(shape_before_flattening)(embedding)\n",
    "\n",
    "  #Decoding\n",
    "  x_ = Conv2DTranspose(filters = 256, kernel_size = 3, strides = 2,  padding = 'same', activation = 'relu')(embedding)\n",
    "  x_ = Conv2DTranspose(filters = 128, kernel_size = 3, strides = 2,  padding = 'same', activation = 'relu')(x_)\n",
    "  x_ = Conv2DTranspose(filters = 64, kernel_size = 3, strides = 2,  padding = 'same', activation = 'relu')(x_)\n",
    "  x_ = Conv2DTranspose(filters = 32, kernel_size = 3, strides = 2,  padding = 'same', activation = 'relu')(x_)\n",
    "  x_ = Conv2DTranspose(filters = 3, kernel_size = 3, strides = 2,  padding = 'same', activation = 'sigmoid')(x_)\n",
    "\n",
    "  #x_hat = Encode_Decode(embedding)\n",
    "\n",
    "  encoder = Model(inputs = [input_img, labels], outputs = zy, name=\"encoder\")\n",
    "  decoder = Model(inputs = inputs_embedding, outputs = x_, name=\"decoder\")\n",
    "\n",
    "  vae_out = decoder(encoder([input_img, labels]))\n",
    "\n",
    "  rec_loss =  np.prod(NEW_IMAGE_DIMS) * binary_crossentropy(Flatten()(input_img), Flatten()(vae_out))\n",
    "  kl_loss = - 0.5 * K.sum(1 + z_log_sigma - K.square(z_mean) - K.exp(z_log_sigma), axis=-1)\n",
    "  vae_loss = K.mean(rec_loss + kl_loss)\n",
    "\n",
    "  vae = Model(inputs = [input_img, labels], outputs = vae_out, name=\"vae\")\n",
    "\n",
    "  vae.add_loss(vae_loss)\n",
    "\n",
    "  optimizer = Adam(lr=0.0005, beta_1 = 0.5)\n",
    "  vae.compile(optimizer)\n",
    "\n",
    "  return vae, encoder, decoder\n",
    "\n",
    "vae, encoder, decoder = VAE()\n",
    "\n",
    "encoder.summary()\n",
    "decoder.summary()\n",
    "\n"
   ]
  },
  {
   "cell_type": "code",
   "execution_count": 31,
   "metadata": {},
   "outputs": [
    {
     "name": "stdout",
     "output_type": "stream",
     "text": [
      "Epoch 1/1\n",
      "1582/1582 [==============================] - 383s 242ms/step - loss: nan\n"
     ]
    },
    {
     "data": {
      "text/plain": [
       "<keras.callbacks.callbacks.History at 0x13ef17ed0>"
      ]
     },
     "execution_count": 31,
     "metadata": {},
     "output_type": "execute_result"
    }
   ],
   "source": [
    "vae.fit(training_set, steps_per_epoch=TOT_IMAGES//BATCH_SIZE, verbose=1, epochs=EPOCHS)"
   ]
  },
  {
   "cell_type": "code",
   "execution_count": 32,
   "metadata": {},
   "outputs": [],
   "source": [
    "# Save model weights\n",
    "vae.save_weights('./vae.h5')\n",
    "decoder.save_weights('./decoder.h5')\n",
    "encoder.save_weights('./encoder.h5')"
   ]
  },
  {
   "cell_type": "code",
   "execution_count": 37,
   "metadata": {},
   "outputs": [
    {
     "name": "stdout",
     "output_type": "stream",
     "text": [
      "Downloading data from https://github.com/fchollet/deep-learning-models/releases/download/v0.5/inception_v3_weights_tf_dim_ordering_tf_kernels_notop.h5\n",
      "87916544/87910968 [==============================] - 204s 2us/step\n"
     ]
    }
   ],
   "source": [
    "def scale_images(images, new_shape):\n",
    "    images_list = list()\n",
    "    for image in images:\n",
    "        # resize with nearest neighbor interpolation\n",
    "        new_image = resize(image, new_shape, order=1)\n",
    "        # store\n",
    "        images_list.append(new_image)\n",
    "    return np.asarray(images_list)\n",
    "\n",
    "def calculate_fid(act1 , act2):\n",
    "    mu1, sigma1 = act1.mean(axis=0), np.cov(act1, rowvar=False)\n",
    "    mu2, sigma2 = act2.mean(axis=0), np.cov(act2, rowvar=False)\n",
    "    ssdiff = np.sum((mu1 - mu2)**2.0)\n",
    "    covmean = sqrtm(sigma1.dot(sigma2))\n",
    "    if np.iscomplexobj(covmean):\n",
    "        covmean = covmean.real\n",
    "    fid = ssdiff + np.trace(sigma1 + sigma2 - 2.0 * covmean)\n",
    "    return fid\n",
    "\n",
    "inception_model = InceptionV3(include_top=False, pooling='avg')"
   ]
  },
  {
   "cell_type": "code",
   "execution_count": 39,
   "metadata": {},
   "outputs": [],
   "source": [
    "def celeba_vae_eval_generator():\n",
    "  attributes = np.array(pd.read_csv(Library + Attributes_txt_file, skiprows=2, header=None, delim_whitespace=True))\n",
    "  attributes = attributes[np.random.choice(attributes.shape[0], 10000, replace=False)]\n",
    "  with ZipFile(Library + Celeba_Zip, 'r') as Celeba_Dataset:\n",
    "    batched = 0\n",
    "    while batched < 10000:\n",
    "      images = attributes[batched: batched + Batch_Size]\n",
    "      image_batch = []\n",
    "      attributes_batch = []\n",
    "      for image_info in images:\n",
    "        image = cv2.imdecode(np.frombuffer(Celeba_Dataset.read(Celeba_images + image_info[0]), np.uint8), cv2.IMREAD_COLOR)[...,::-1] / 255.0\n",
    "        image = image [45:173 , 25:153]\n",
    "        image = cv2.resize(src=image, dsize=(Image_Dim_Crop[0], Image_Dim_Crop[1]))\n",
    "        image_batch += [image]\n",
    "        attributes_batch += [image_info[1:]]\n",
    "      image_batch = np.array(image_batch, dtype=np.float32)\n",
    "      attribute_batch = np.array(attributes_batch, dtype=np.int32)\n",
    "\n",
    "      batched += Batch_Size\n",
    "\n",
    "      yield [image_batch, attribute_batch]\n",
    "\n",
    "validation_dataset = celeba_vae_eval_generator()"
   ]
  },
  {
   "cell_type": "code",
   "execution_count": 40,
   "metadata": {},
   "outputs": [
    {
     "name": "stdout",
     "output_type": "stream",
     "text": [
      "Calculating activations for each batch...\n"
     ]
    },
    {
     "ename": "NameError",
     "evalue": "name 'Library' is not defined",
     "output_type": "error",
     "traceback": [
      "\u001b[0;31m---------------------------------------------------------------------------\u001b[0m",
      "\u001b[0;31mNameError\u001b[0m                                 Traceback (most recent call last)",
      "\u001b[0;32m<ipython-input-40-60fc8d0885d2>\u001b[0m in \u001b[0;36m<module>\u001b[0;34m\u001b[0m\n\u001b[1;32m      3\u001b[0m \u001b[0mpred_act\u001b[0m \u001b[0;34m=\u001b[0m \u001b[0mnp\u001b[0m\u001b[0;34m.\u001b[0m\u001b[0marray\u001b[0m\u001b[0;34m(\u001b[0m\u001b[0;34m[\u001b[0m\u001b[0;34m]\u001b[0m\u001b[0;34m)\u001b[0m\u001b[0;34m.\u001b[0m\u001b[0mreshape\u001b[0m\u001b[0;34m(\u001b[0m\u001b[0;34m(\u001b[0m\u001b[0;36m0\u001b[0m\u001b[0;34m,\u001b[0m \u001b[0;36m2048\u001b[0m\u001b[0;34m)\u001b[0m\u001b[0;34m)\u001b[0m\u001b[0;34m\u001b[0m\u001b[0;34m\u001b[0m\u001b[0m\n\u001b[1;32m      4\u001b[0m \u001b[0mi\u001b[0m \u001b[0;34m=\u001b[0m \u001b[0;36m1\u001b[0m\u001b[0;34m\u001b[0m\u001b[0;34m\u001b[0m\u001b[0m\n\u001b[0;32m----> 5\u001b[0;31m \u001b[0;32mfor\u001b[0m \u001b[0mbatch\u001b[0m \u001b[0;32min\u001b[0m \u001b[0mvalidation_dataset\u001b[0m\u001b[0;34m:\u001b[0m\u001b[0;34m\u001b[0m\u001b[0;34m\u001b[0m\u001b[0m\n\u001b[0m\u001b[1;32m      6\u001b[0m   \u001b[0mimages\u001b[0m \u001b[0;34m=\u001b[0m \u001b[0mbatch\u001b[0m\u001b[0;34m[\u001b[0m\u001b[0;36m0\u001b[0m\u001b[0;34m]\u001b[0m\u001b[0;34m\u001b[0m\u001b[0;34m\u001b[0m\u001b[0m\n\u001b[1;32m      7\u001b[0m   \u001b[0mprint\u001b[0m\u001b[0;34m(\u001b[0m\u001b[0;34m\"Batch\"\u001b[0m\u001b[0;34m,\u001b[0m \u001b[0mi\u001b[0m\u001b[0;34m,\u001b[0m \u001b[0;34m\"- Num. samples:\"\u001b[0m\u001b[0;34m,\u001b[0m \u001b[0mimages\u001b[0m\u001b[0;34m.\u001b[0m\u001b[0mshape\u001b[0m\u001b[0;34m[\u001b[0m\u001b[0;36m0\u001b[0m\u001b[0;34m]\u001b[0m\u001b[0;34m)\u001b[0m\u001b[0;34m\u001b[0m\u001b[0;34m\u001b[0m\u001b[0m\n",
      "\u001b[0;32m<ipython-input-39-eac5fb2748f6>\u001b[0m in \u001b[0;36mceleba_vae_eval_generator\u001b[0;34m()\u001b[0m\n\u001b[1;32m      1\u001b[0m \u001b[0;32mdef\u001b[0m \u001b[0mceleba_vae_eval_generator\u001b[0m\u001b[0;34m(\u001b[0m\u001b[0;34m)\u001b[0m\u001b[0;34m:\u001b[0m\u001b[0;34m\u001b[0m\u001b[0;34m\u001b[0m\u001b[0m\n\u001b[0;32m----> 2\u001b[0;31m   \u001b[0mattributes\u001b[0m \u001b[0;34m=\u001b[0m \u001b[0mnp\u001b[0m\u001b[0;34m.\u001b[0m\u001b[0marray\u001b[0m\u001b[0;34m(\u001b[0m\u001b[0mpd\u001b[0m\u001b[0;34m.\u001b[0m\u001b[0mread_csv\u001b[0m\u001b[0;34m(\u001b[0m\u001b[0mLibrary\u001b[0m \u001b[0;34m+\u001b[0m \u001b[0mAttributes_txt_file\u001b[0m\u001b[0;34m,\u001b[0m \u001b[0mskiprows\u001b[0m\u001b[0;34m=\u001b[0m\u001b[0;36m2\u001b[0m\u001b[0;34m,\u001b[0m \u001b[0mheader\u001b[0m\u001b[0;34m=\u001b[0m\u001b[0;32mNone\u001b[0m\u001b[0;34m,\u001b[0m \u001b[0mdelim_whitespace\u001b[0m\u001b[0;34m=\u001b[0m\u001b[0;32mTrue\u001b[0m\u001b[0;34m)\u001b[0m\u001b[0;34m)\u001b[0m\u001b[0;34m\u001b[0m\u001b[0;34m\u001b[0m\u001b[0m\n\u001b[0m\u001b[1;32m      3\u001b[0m   \u001b[0mattributes\u001b[0m \u001b[0;34m=\u001b[0m \u001b[0mattributes\u001b[0m\u001b[0;34m[\u001b[0m\u001b[0mnp\u001b[0m\u001b[0;34m.\u001b[0m\u001b[0mrandom\u001b[0m\u001b[0;34m.\u001b[0m\u001b[0mchoice\u001b[0m\u001b[0;34m(\u001b[0m\u001b[0mattributes\u001b[0m\u001b[0;34m.\u001b[0m\u001b[0mshape\u001b[0m\u001b[0;34m[\u001b[0m\u001b[0;36m0\u001b[0m\u001b[0;34m]\u001b[0m\u001b[0;34m,\u001b[0m \u001b[0;36m10000\u001b[0m\u001b[0;34m,\u001b[0m \u001b[0mreplace\u001b[0m\u001b[0;34m=\u001b[0m\u001b[0;32mFalse\u001b[0m\u001b[0;34m)\u001b[0m\u001b[0;34m]\u001b[0m\u001b[0;34m\u001b[0m\u001b[0;34m\u001b[0m\u001b[0m\n\u001b[1;32m      4\u001b[0m   \u001b[0;32mwith\u001b[0m \u001b[0mZipFile\u001b[0m\u001b[0;34m(\u001b[0m\u001b[0mLibrary\u001b[0m \u001b[0;34m+\u001b[0m \u001b[0mCeleba_Zip\u001b[0m\u001b[0;34m,\u001b[0m \u001b[0;34m'r'\u001b[0m\u001b[0;34m)\u001b[0m \u001b[0;32mas\u001b[0m \u001b[0mCeleba_Dataset\u001b[0m\u001b[0;34m:\u001b[0m\u001b[0;34m\u001b[0m\u001b[0;34m\u001b[0m\u001b[0m\n\u001b[1;32m      5\u001b[0m     \u001b[0mbatched\u001b[0m \u001b[0;34m=\u001b[0m \u001b[0;36m0\u001b[0m\u001b[0;34m\u001b[0m\u001b[0;34m\u001b[0m\u001b[0m\n",
      "\u001b[0;31mNameError\u001b[0m: name 'Library' is not defined"
     ]
    }
   ],
   "source": [
    "print(\"Calculating activations for each batch...\")\n",
    "img_act = np.array([]).reshape((0, 2048))\n",
    "pred_act = np.array([]).reshape((0, 2048))\n",
    "i = 1\n",
    "for batch in validation_dataset:\n",
    "  images = batch[0]\n",
    "  print(\"Batch\", i, \"- Num. samples:\", images.shape[0])\n",
    "  predictions = vae.predict(batch)\n",
    "  if i == 1:\n",
    "    imgs1 = images\n",
    "    prediction1 = predictions\n",
    "  images = images * 255.0\n",
    "  predictions = predictions * 255.0\n",
    "  images1 = scale_images(images, (299, 299, 3))\n",
    "  images1 = preprocess_input(images1)\n",
    "  images2 = scale_images(predictions, (299, 299, 3))\n",
    "  images2 = preprocess_input(images2)\n",
    "  a = inception_model.predict(images1)\n",
    "  b = inception_model.predict(images2)\n",
    "  img_act = np.concatenate((img_act, a), axis = 0)\n",
    "  pred_act = np.concatenate((pred_act, b), axis = 0)\n",
    "  i += 1\n",
    "print(\"Done!\")\n",
    "show_batch(imgs1)\n",
    "show_batch(prediction1)"
   ]
  },
  {
   "cell_type": "code",
   "execution_count": null,
   "metadata": {},
   "outputs": [],
   "source": []
  }
 ],
 "metadata": {
  "kernelspec": {
   "display_name": "Python 3",
   "language": "python",
   "name": "python3"
  },
  "language_info": {
   "codemirror_mode": {
    "name": "ipython",
    "version": 3
   },
   "file_extension": ".py",
   "mimetype": "text/x-python",
   "name": "python",
   "nbconvert_exporter": "python",
   "pygments_lexer": "ipython3",
   "version": "3.7.4"
  }
 },
 "nbformat": 4,
 "nbformat_minor": 4
}
