{
  "nbformat": 4,
  "nbformat_minor": 0,
  "metadata": {
    "colab": {
      "name": "E&E_celeba_ny.ipynb",
      "provenance": []
    },
    "kernelspec": {
      "name": "python3",
      "display_name": "Python 3"
    }
  },
  "cells": [
    {
      "cell_type": "code",
      "metadata": {
        "id": "7K_g5kUqUjdw",
        "colab_type": "code",
        "colab": {
          "base_uri": "https://localhost:8080/",
          "height": 54
        },
        "outputId": "fb7cc1b3-fe0c-4c50-fe03-8bb7684343a0"
      },
      "source": [
        "import numpy as np\n",
        "import pandas as pd \n",
        "import os\n",
        "from PIL import Image\n",
        "import matplotlib.pyplot as plt\n",
        "from scipy.linalg import sqrtm\n",
        "from skimage.transform import resize\n",
        "import cv2\n",
        "\n",
        "\n",
        "from keras.preprocessing.image import load_img, img_to_array, array_to_img\n",
        "from keras.layers import Activation, Dense, Input, Dropout, BatchNormalization\n",
        "from keras.layers import Conv2D, Conv2DTranspose, Input, Flatten, Dense, Reshape, Concatenate, Lambda, Layer\n",
        "from keras.layers.merge import concatenate\n",
        "from keras.models import Model\n",
        "from keras.optimizers import Adam\n",
        "from keras.losses import mean_squared_error, binary_crossentropy\n",
        "from keras import metrics\n",
        "from keras.applications.inception_v3 import preprocess_input, InceptionV3\n",
        "import keras.backend as K\n",
        "\n",
        "\n",
        "from zipfile import ZipFile\n",
        "from google.colab import drive\n",
        "drive.mount(\"/content/drive\")"
      ],
      "execution_count": 17,
      "outputs": [
        {
          "output_type": "stream",
          "text": [
            "Drive already mounted at /content/drive; to attempt to forcibly remount, call drive.mount(\"/content/drive\", force_remount=True).\n"
          ],
          "name": "stdout"
        }
      ]
    },
    {
      "cell_type": "code",
      "metadata": {
        "id": "nx07owYCYl6i",
        "colab_type": "code",
        "colab": {
          "base_uri": "https://localhost:8080/",
          "height": 85
        },
        "outputId": "739347c6-1556-4144-b1a9-823b0f15d690"
      },
      "source": [
        "ls"
      ],
      "execution_count": 18,
      "outputs": [
        {
          "output_type": "stream",
          "text": [
            "\u001b[0m\u001b[01;34mbin\u001b[0m/      \u001b[01;34mdev\u001b[0m/   \u001b[01;34mlib32\u001b[0m/  \u001b[01;34mopt\u001b[0m/   \u001b[01;34msbin\u001b[0m/   \u001b[01;34mtensorflow-1.15.2\u001b[0m/  \u001b[01;34mvar\u001b[0m/\n",
            "\u001b[01;34mboot\u001b[0m/     \u001b[01;34metc\u001b[0m/   \u001b[01;34mlib64\u001b[0m/  \u001b[01;34mproc\u001b[0m/  \u001b[01;34msrv\u001b[0m/    \u001b[30;42mtmp\u001b[0m/\n",
            "\u001b[01;34mcontent\u001b[0m/  \u001b[01;34mhome\u001b[0m/  \u001b[01;34mmedia\u001b[0m/  \u001b[01;34mroot\u001b[0m/  \u001b[01;34mswift\u001b[0m/  \u001b[01;34mtools\u001b[0m/\n",
            "\u001b[01;34mdatalab\u001b[0m/  \u001b[01;34mlib\u001b[0m/   \u001b[01;34mmnt\u001b[0m/    \u001b[01;34mrun\u001b[0m/   \u001b[01;34msys\u001b[0m/    \u001b[01;34musr\u001b[0m/\n"
          ],
          "name": "stdout"
        }
      ]
    },
    {
      "cell_type": "code",
      "metadata": {
        "id": "JYjKuV1JU36t",
        "colab_type": "code",
        "colab": {}
      },
      "source": [
        "## Constants\n",
        "OLD_IMAGE_DIMS = (218, 178, 3)\n",
        "NEW_IMAGE_DIMS = (64, 64, 3)\n",
        "BATCH_SIZE = 128 # Hva er dette?\n",
        "N = 60000\n",
        "NUM_ATTRIBUTES = 40\n",
        "LATENT_DIM = 64\n",
        "TOT_IMAGES = 202599\n",
        "EPOCHS = 10"
      ],
      "execution_count": null,
      "outputs": []
    },
    {
      "cell_type": "code",
      "metadata": {
        "id": "bfYQIPNaVeXd",
        "colab_type": "code",
        "colab": {}
      },
      "source": [
        "## Constants needed to run in Google Colab\n",
        "PATH = 'drive/My Drive/dataset_DL/'\n",
        "IMAGES = 'img_align_celeba/'\n",
        "ATTRIBUTES = 'list_attr_celeba.txt'"
      ],
      "execution_count": null,
      "outputs": []
    },
    {
      "cell_type": "code",
      "metadata": {
        "id": "C6Y44ml5WBul",
        "colab_type": "code",
        "colab": {}
      },
      "source": [
        "## Loading dataset\n",
        "def "
      ],
      "execution_count": null,
      "outputs": []
    }
  ]
}