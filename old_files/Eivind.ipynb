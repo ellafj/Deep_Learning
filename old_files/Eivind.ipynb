{
  "nbformat": 4,
  "nbformat_minor": 0,
  "metadata": {
    "colab": {
      "name": "E&E_celeba_ny.ipynb",
      "provenance": [],
      "toc_visible": true
    },
    "kernelspec": {
      "name": "python3",
      "display_name": "Python 3"
    }
  },
  "cells": [
    {
      "cell_type": "code",
      "metadata": {
        "id": "7K_g5kUqUjdw",
        "colab_type": "code",
        "colab": {
          "base_uri": "https://localhost:8080/"
        },
        "outputId": "2ee1ceaf-2b86-48f5-f067-b9294844d8fb"
      },
      "source": [
        "import numpy as np\n",
        "import pandas as pd \n",
        "import os\n",
        "from PIL import Image\n",
        "import matplotlib.pyplot as plt\n",
        "from scipy.linalg import sqrtm\n",
        "from skimage.transform import resize\n",
        "import cv2\n",
        "\n",
        "\n",
        "from keras.preprocessing.image import load_img, img_to_array, array_to_img\n",
        "from keras.layers import Activation, Dense, Input, Dropout, BatchNormalization\n",
        "from keras.layers import Conv2D, Conv2DTranspose, Input, Flatten, Dense, Reshape, Concatenate, Lambda, Layer\n",
        "from keras.layers.merge import concatenate\n",
        "from keras.models import Model\n",
        "from keras.optimizers import Adam\n",
        "from keras.losses import mean_squared_error, binary_crossentropy\n",
        "from keras import metrics\n",
        "from keras.applications.inception_v3 import preprocess_input, InceptionV3\n",
        "import keras.backend as K\n",
        "\n",
        "\n",
        "from zipfile import ZipFile\n",
        "from google.colab import drive\n",
        "drive.mount(\"/content/drive\")"
      ],
      "execution_count": 19,
      "outputs": [
        {
          "output_type": "stream",
          "text": [
            "Drive already mounted at /content/drive; to attempt to forcibly remount, call drive.mount(\"/content/drive\", force_remount=True).\n"
          ],
          "name": "stdout"
        }
      ]
    },
    {
      "cell_type": "code",
      "metadata": {
        "id": "JYjKuV1JU36t",
        "colab_type": "code",
        "colab": {}
      },
      "source": [
        "## Constants\n",
        "OLD_IMAGE_DIMS = (218, 178, 3)\n",
        "NEW_IMAGE_DIMS = (64, 64, 3)\n",
        "CROP_IMAGE_DIMS = (25, 45, 153, 173)\n",
        "BATCH_SIZE = 128 # Hva er dette?\n",
        "N = 60000\n",
        "NUM_ATTRIBUTES = 40\n",
        "LATENT_DIM = 64\n",
        "TOT_IMAGES = 202599\n",
        "EPOCHS = 10"
      ],
      "execution_count": null,
      "outputs": []
    },
    {
      "cell_type": "code",
      "metadata": {
        "id": "bfYQIPNaVeXd",
        "colab_type": "code",
        "colab": {}
      },
      "source": [
        "## Constants needed to run in Google Colab\n",
        "PATH = 'drive/My Drive/dataset_DL/'\n",
        "IMAGES = 'img_align_celeba/'\n",
        "ATTRIBUTES = 'list_attr_celeba.txt'"
      ],
      "execution_count": null,
      "outputs": []
    },
    {
      "cell_type": "code",
      "metadata": {
        "id": "C6Y44ml5WBul",
        "colab_type": "code",
        "colab": {}
      },
      "source": [
        "## Loading dataset\n",
        "def get_attributes(filename):\n",
        "  f = open(filename, 'r')\n",
        "  lines = f.readlines()\n",
        "  attributes = []\n",
        "  i = 0\n",
        "  for line in lines:\n",
        "      if i != 0 and i != 1:\n",
        "        line = line.split()\n",
        "        #line.pop(0)\n",
        "        attributes.append(line)\n",
        "      i += 1\n",
        "  return attributes\n",
        "\n",
        "def initialize_training_set(): # N or batch size??\n",
        "    all_attributes = get_attributes(PATH + ATTRIBUTES)\n",
        "    chosen_info = random.sample(all_attributes, N)\n",
        "    chosen_attributes = [[info[1:]] for info in chosen_info]\n",
        "    chosen_images = [info[0] for info in chosen_info]\n",
        "    resized_images = []\n",
        "\n",
        "    for name in chosen_images:\n",
        "        print(name)\n",
        "        img = np.array((Image.open(PATH + IMAGES + name).crop(CROP_IMAGE_DIMS)).resize((NEW_IMAGE_DIMS[0], NEW_IMAGE_DIMS[1])))\n",
        "        resized_images.append(img)\n",
        "    resized_images = np.array(resized_images)\n",
        "    resized_images = np.array([imgs.astype('float32') for imgs in resized_images])\n",
        "\n",
        "    return [resized_images, chosen_attributes]\n",
        "\n",
        "training_set = initialize_training_set()"
      ],
      "execution_count": null,
      "outputs": []
    }
  ]
}
